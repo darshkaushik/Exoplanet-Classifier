{
 "cells": [
  {
   "cell_type": "markdown",
   "metadata": {},
   "source": [
    "# Capstone Project\n",
    "## OTHER EARTHS\n",
    "Exoplanet-star Classifier\n"
   ]
  },
  {
   "cell_type": "markdown",
   "metadata": {},
   "source": [
    "## TRAINING AND TESTING"
   ]
  },
  {
   "cell_type": "code",
   "execution_count": 204,
   "metadata": {},
   "outputs": [],
   "source": [
    "#Importing Libraries\n",
    "import pandas as pd\n",
    "import numpy as np\n",
    "import os\n",
    "import boto3\n",
    "import sagemaker\n",
    "import matplotlib.pyplot as plt\n",
    "from scipy.ndimage.filters import uniform_filter1d\n",
    "import torch\n",
    "from torch.utils.data.sampler import WeightedRandomSampler\n",
    "from torch.utils.data import DataLoader\n",
    "from random import sample \n",
    "import tarfile\n",
    "from sklearn.metrics import accuracy_score "
   ]
  },
  {
   "cell_type": "code",
   "execution_count": 205,
   "metadata": {},
   "outputs": [],
   "source": [
    "# session and role\n",
    "sagemaker_session = sagemaker.Session()\n",
    "role = sagemaker.get_execution_role()\n",
    "\n",
    "# create an S3 bucket\n",
    "bucket = sagemaker_session.default_bucket()"
   ]
  },
  {
   "cell_type": "code",
   "execution_count": 206,
   "metadata": {},
   "outputs": [],
   "source": [
    "data_dir = 'data'\n",
    "prefix = 'exoplanet'\n",
    "\n",
    "input_data=sagemaker_session.upload_data(path = data_dir, key_prefix=prefix)"
   ]
  },
  {
   "cell_type": "markdown",
   "metadata": {},
   "source": [
    "### Modeling\n",
    "\n",
    "#### Model Architecture"
   ]
  },
  {
   "cell_type": "code",
   "execution_count": 207,
   "metadata": {},
   "outputs": [
    {
     "name": "stdout",
     "output_type": "stream",
     "text": [
      "\u001b[37m# torch imports\u001b[39;49;00m\n",
      "\u001b[34mimport\u001b[39;49;00m \u001b[04m\u001b[36mtorch\u001b[39;49;00m\u001b[04m\u001b[36m.\u001b[39;49;00m\u001b[04m\u001b[36mnn\u001b[39;49;00m\u001b[04m\u001b[36m.\u001b[39;49;00m\u001b[04m\u001b[36mfunctional\u001b[39;49;00m \u001b[34mas\u001b[39;49;00m \u001b[04m\u001b[36mF\u001b[39;49;00m\n",
      "\u001b[34mimport\u001b[39;49;00m \u001b[04m\u001b[36mtorch\u001b[39;49;00m\u001b[04m\u001b[36m.\u001b[39;49;00m\u001b[04m\u001b[36mnn\u001b[39;49;00m \u001b[34mas\u001b[39;49;00m \u001b[04m\u001b[36mnn\u001b[39;49;00m\n",
      "\u001b[34mfrom\u001b[39;49;00m \u001b[04m\u001b[36mtorch\u001b[39;49;00m\u001b[04m\u001b[36m.\u001b[39;49;00m\u001b[04m\u001b[36mnn\u001b[39;49;00m \u001b[34mimport\u001b[39;49;00m Conv1d, Linear, MaxPool1d, ReLU, Sigmoid, BatchNorm1d, Dropout\n",
      "\n",
      "\u001b[34mclass\u001b[39;49;00m \u001b[04m\u001b[32mClassifier\u001b[39;49;00m(nn.Module):\n",
      "    \u001b[33m\"\"\"\u001b[39;49;00m\n",
      "\u001b[33m    Performs binary classification.\u001b[39;49;00m\n",
      "\u001b[33m    The network should accept your number of features as input, and produce \u001b[39;49;00m\n",
      "\u001b[33m    a single sigmoid value, that can be rounded to a label: 0 or 1, as output.\u001b[39;49;00m\n",
      "\u001b[33m    \u001b[39;49;00m\n",
      "\u001b[33m    Notes on training:\u001b[39;49;00m\n",
      "\u001b[33m    To train the classifier in PyTorch, use BCEWithLogitsLoss with 'pos_weights argument'.\u001b[39;49;00m\n",
      "\u001b[33m    \u001b[39;49;00m\n",
      "\u001b[33m    \"\"\"\u001b[39;49;00m\n",
      "\n",
      "    \u001b[34mdef\u001b[39;49;00m \u001b[32m__init__\u001b[39;49;00m(\u001b[36mself\u001b[39;49;00m):\n",
      "        \u001b[36msuper\u001b[39;49;00m(Classifier, \u001b[36mself\u001b[39;49;00m).\u001b[32m__init__\u001b[39;49;00m()\n",
      "        \n",
      "        \u001b[37m# Layers\u001b[39;49;00m\n",
      "        \u001b[36mself\u001b[39;49;00m.conv1 = Conv1d(in_channels=\u001b[34m1\u001b[39;49;00m, out_channels=\u001b[34m8\u001b[39;49;00m, kernel_size=\u001b[34m11\u001b[39;49;00m)\n",
      "        \u001b[36mself\u001b[39;49;00m.conv2 = Conv1d(\u001b[34m8\u001b[39;49;00m,\u001b[34m16\u001b[39;49;00m,\u001b[34m11\u001b[39;49;00m)\n",
      "        \u001b[36mself\u001b[39;49;00m.conv3 = Conv1d(\u001b[34m16\u001b[39;49;00m,\u001b[34m32\u001b[39;49;00m,\u001b[34m11\u001b[39;49;00m)\n",
      "        \u001b[36mself\u001b[39;49;00m.conv4 = Conv1d(\u001b[34m32\u001b[39;49;00m,\u001b[34m64\u001b[39;49;00m,\u001b[34m11\u001b[39;49;00m)\n",
      "        \n",
      "        \u001b[36mself\u001b[39;49;00m.pool = MaxPool1d(\u001b[34m4\u001b[39;49;00m, stride=\u001b[34m2\u001b[39;49;00m)\n",
      "        \n",
      "        \u001b[36mself\u001b[39;49;00m.fc1 = Linear(\u001b[34m12032\u001b[39;49;00m, \u001b[34m5000\u001b[39;49;00m)\n",
      "        \u001b[36mself\u001b[39;49;00m.fc2 = Linear(\u001b[34m5000\u001b[39;49;00m, \u001b[34m1000\u001b[39;49;00m)\n",
      "        \u001b[36mself\u001b[39;49;00m.fc3 = Linear(\u001b[34m1000\u001b[39;49;00m, \u001b[34m100\u001b[39;49;00m)\n",
      "        \u001b[36mself\u001b[39;49;00m.fc4 = Linear(\u001b[34m100\u001b[39;49;00m, \u001b[34m1\u001b[39;49;00m)\n",
      "        \n",
      "        \u001b[36mself\u001b[39;49;00m.drop = Dropout(\u001b[34m0.3\u001b[39;49;00m)\n",
      "        \u001b[36mself\u001b[39;49;00m.Drop = Dropout(\u001b[34m0.5\u001b[39;49;00m)\n",
      "        \n",
      "        \u001b[36mself\u001b[39;49;00m.relu = ReLU()\n",
      "        \u001b[36mself\u001b[39;49;00m.sig = Sigmoid()\n",
      "        \n",
      "        \u001b[36mself\u001b[39;49;00m.flat = nn.Flatten()\n",
      "        \n",
      "        \u001b[36mself\u001b[39;49;00m.bn1 = BatchNorm1d(\u001b[34m8\u001b[39;49;00m)\n",
      "        \u001b[36mself\u001b[39;49;00m.bn2 = BatchNorm1d(\u001b[34m16\u001b[39;49;00m)\n",
      "        \u001b[36mself\u001b[39;49;00m.bn3 = BatchNorm1d(\u001b[34m32\u001b[39;49;00m)\n",
      "        \u001b[36mself\u001b[39;49;00m.bn4 = BatchNorm1d(\u001b[34m64\u001b[39;49;00m)\n",
      "    \n",
      "    \u001b[34mdef\u001b[39;49;00m \u001b[32mforward\u001b[39;49;00m(\u001b[36mself\u001b[39;49;00m, b):\n",
      "        \u001b[33m\"\"\"\u001b[39;49;00m\n",
      "\u001b[33m        Perform a forward pass of our model on input features, x.\u001b[39;49;00m\n",
      "\u001b[33m        :param b: A batch of input features of size (batch_size, channels, no. of timestamps)\u001b[39;49;00m\n",
      "\u001b[33m        :return: A single, sigmoid-activated value as output\u001b[39;49;00m\n",
      "\u001b[33m        \"\"\"\u001b[39;49;00m\n",
      "        \u001b[37m#convolutions\u001b[39;49;00m\n",
      "        b= \u001b[36mself\u001b[39;49;00m.bn1(\u001b[36mself\u001b[39;49;00m.pool(\u001b[36mself\u001b[39;49;00m.relu(\u001b[36mself\u001b[39;49;00m.conv1(b))))\n",
      "        b= \u001b[36mself\u001b[39;49;00m.bn2(\u001b[36mself\u001b[39;49;00m.pool(\u001b[36mself\u001b[39;49;00m.relu(\u001b[36mself\u001b[39;49;00m.conv2(b))))\n",
      "        b= \u001b[36mself\u001b[39;49;00m.bn3(\u001b[36mself\u001b[39;49;00m.pool(\u001b[36mself\u001b[39;49;00m.relu(\u001b[36mself\u001b[39;49;00m.conv3(b))))\n",
      "        b= \u001b[36mself\u001b[39;49;00m.bn4(\u001b[36mself\u001b[39;49;00m.pool(\u001b[36mself\u001b[39;49;00m.relu(\u001b[36mself\u001b[39;49;00m.conv4(b))))\n",
      "        \n",
      "        \u001b[37m#linear\u001b[39;49;00m\n",
      "        b= \u001b[36mself\u001b[39;49;00m.Drop(\u001b[36mself\u001b[39;49;00m.flat(b))\n",
      "        b= \u001b[36mself\u001b[39;49;00m.drop(\u001b[36mself\u001b[39;49;00m.relu(\u001b[36mself\u001b[39;49;00m.fc1(b)))\n",
      "        b= \u001b[36mself\u001b[39;49;00m.drop(\u001b[36mself\u001b[39;49;00m.relu(\u001b[36mself\u001b[39;49;00m.fc2(b)))\n",
      "        b= \u001b[36mself\u001b[39;49;00m.drop(\u001b[36mself\u001b[39;49;00m.relu(\u001b[36mself\u001b[39;49;00m.fc3(b)))\n",
      "        b= \u001b[36mself\u001b[39;49;00m.sig(\u001b[36mself\u001b[39;49;00m.fc4(b))\n",
      "        \n",
      "        \u001b[34mreturn\u001b[39;49;00m b\n"
     ]
    }
   ],
   "source": [
    "!pygmentize source_pytorch/model.py"
   ]
  },
  {
   "cell_type": "markdown",
   "metadata": {},
   "source": [
    "#### Creating a pytorch estimator"
   ]
  },
  {
   "cell_type": "code",
   "execution_count": 263,
   "metadata": {},
   "outputs": [],
   "source": [
    "from sagemaker.pytorch import PyTorch\n",
    "\n",
    "# 'class_weight_0' and 'class_weight_1' are the weights for the ratio in which the training data \n",
    "# for label 0 and 1 respectively has to be sampled in order to mitigate class imbalance\n",
    "epochs=100\n",
    "estimator = PyTorch(entry_point=\"train.py\",\n",
    "                    source_dir=\"source_pytorch\",\n",
    "                    role=role,\n",
    "                    framework_version='1.5.0',\n",
    "                    train_instance_count=1,\n",
    "                    train_instance_type='ml.p2.xlarge',\n",
    "                    output_path=(\"s3://\"+bucket+\"/\"+prefix),\n",
    "                    hyperparameters={\n",
    "                        'epochs': epochs,\n",
    "                        'class_weight_0': 7,\n",
    "                        'class_weight_1': 3\n",
    "                    })"
   ]
  },
  {
   "cell_type": "markdown",
   "metadata": {},
   "source": [
    "#### Training the estimator"
   ]
  },
  {
   "cell_type": "code",
   "execution_count": 264,
   "metadata": {},
   "outputs": [
    {
     "name": "stderr",
     "output_type": "stream",
     "text": [
      "'create_image_uri' will be deprecated in favor of 'ImageURIProvider' class in SageMaker Python SDK v2.\n",
      "'s3_input' class will be renamed to 'TrainingInput' in SageMaker Python SDK v2.\n",
      "'create_image_uri' will be deprecated in favor of 'ImageURIProvider' class in SageMaker Python SDK v2.\n"
     ]
    },
    {
     "name": "stdout",
     "output_type": "stream",
     "text": [
      "2020-10-27 02:09:51 Starting - Starting the training job...\n",
      "2020-10-27 02:09:53 Starting - Launching requested ML instances......\n",
      "2020-10-27 02:11:00 Starting - Preparing the instances for training......\n",
      "2020-10-27 02:12:06 Downloading - Downloading input data......\n",
      "2020-10-27 02:13:20 Training - Downloading the training image............\n",
      "2020-10-27 02:15:10 Training - Training image download completed. Training in progress.\u001b[34mbash: cannot set terminal process group (-1): Inappropriate ioctl for device\u001b[0m\n",
      "\u001b[34mbash: no job control in this shell\u001b[0m\n",
      "\u001b[34m2020-10-27 02:15:12,053 sagemaker-containers INFO     Imported framework sagemaker_pytorch_container.training\u001b[0m\n",
      "\u001b[34m2020-10-27 02:15:12,078 sagemaker_pytorch_container.training INFO     Block until all host DNS lookups succeed.\u001b[0m\n",
      "\u001b[34m2020-10-27 02:15:13,505 sagemaker_pytorch_container.training INFO     Invoking user training script.\u001b[0m\n",
      "\u001b[34m2020-10-27 02:15:13,801 sagemaker-containers INFO     Module default_user_module_name does not provide a setup.py. \u001b[0m\n",
      "\u001b[34mGenerating setup.py\u001b[0m\n",
      "\u001b[34m2020-10-27 02:15:13,801 sagemaker-containers INFO     Generating setup.cfg\u001b[0m\n",
      "\u001b[34m2020-10-27 02:15:13,802 sagemaker-containers INFO     Generating MANIFEST.in\u001b[0m\n",
      "\u001b[34m2020-10-27 02:15:13,802 sagemaker-containers INFO     Installing module with the following command:\u001b[0m\n",
      "\u001b[34m/opt/conda/bin/python -m pip install . -r requirements.txt\u001b[0m\n",
      "\u001b[34mProcessing /tmp/tmp5vm2r65v/module_dir\u001b[0m\n",
      "\u001b[34mBuilding wheels for collected packages: default-user-module-name\n",
      "  Building wheel for default-user-module-name (setup.py): started\u001b[0m\n",
      "\u001b[34m  Building wheel for default-user-module-name (setup.py): finished with status 'done'\n",
      "  Created wheel for default-user-module-name: filename=default_user_module_name-1.0.0-py2.py3-none-any.whl size=17226 sha256=1d978394fe39ca5c4481cb24cd6281251fc6e5ee3b05f65602c7a816d190c08f\n",
      "  Stored in directory: /tmp/pip-ephem-wheel-cache-i5i7vbg_/wheels/66/57/66/da16c996aec09179080f3ad8cecfbae9c57a2c4cc332d90220\u001b[0m\n",
      "\u001b[34mSuccessfully built default-user-module-name\u001b[0m\n",
      "\u001b[34mInstalling collected packages: default-user-module-name\u001b[0m\n",
      "\u001b[34mSuccessfully installed default-user-module-name-1.0.0\u001b[0m\n",
      "\u001b[34mWARNING: You are using pip version 20.1; however, version 20.2.4 is available.\u001b[0m\n",
      "\u001b[34mYou should consider upgrading via the '/opt/conda/bin/python -m pip install --upgrade pip' command.\u001b[0m\n",
      "\u001b[34m2020-10-27 02:15:16,437 sagemaker-containers INFO     Invoking user script\n",
      "\u001b[0m\n",
      "\u001b[34mTraining Env:\n",
      "\u001b[0m\n",
      "\u001b[34m{\n",
      "    \"additional_framework_parameters\": {},\n",
      "    \"channel_input_dirs\": {\n",
      "        \"train\": \"/opt/ml/input/data/train\"\n",
      "    },\n",
      "    \"current_host\": \"algo-1\",\n",
      "    \"framework_module\": \"sagemaker_pytorch_container.training:main\",\n",
      "    \"hosts\": [\n",
      "        \"algo-1\"\n",
      "    ],\n",
      "    \"hyperparameters\": {\n",
      "        \"class_weight_1\": 3,\n",
      "        \"class_weight_0\": 7,\n",
      "        \"epochs\": 100\n",
      "    },\n",
      "    \"input_config_dir\": \"/opt/ml/input/config\",\n",
      "    \"input_data_config\": {\n",
      "        \"train\": {\n",
      "            \"TrainingInputMode\": \"File\",\n",
      "            \"S3DistributionType\": \"FullyReplicated\",\n",
      "            \"RecordWrapperType\": \"None\"\n",
      "        }\n",
      "    },\n",
      "    \"input_dir\": \"/opt/ml/input\",\n",
      "    \"is_master\": true,\n",
      "    \"job_name\": \"pytorch-training-2020-10-27-02-09-50-132\",\n",
      "    \"log_level\": 20,\n",
      "    \"master_hostname\": \"algo-1\",\n",
      "    \"model_dir\": \"/opt/ml/model\",\n",
      "    \"module_dir\": \"s3://sagemaker-ap-south-1-598085156765/pytorch-training-2020-10-27-02-09-50-132/source/sourcedir.tar.gz\",\n",
      "    \"module_name\": \"train\",\n",
      "    \"network_interface_name\": \"eth0\",\n",
      "    \"num_cpus\": 4,\n",
      "    \"num_gpus\": 1,\n",
      "    \"output_data_dir\": \"/opt/ml/output/data\",\n",
      "    \"output_dir\": \"/opt/ml/output\",\n",
      "    \"output_intermediate_dir\": \"/opt/ml/output/intermediate\",\n",
      "    \"resource_config\": {\n",
      "        \"current_host\": \"algo-1\",\n",
      "        \"hosts\": [\n",
      "            \"algo-1\"\n",
      "        ],\n",
      "        \"network_interface_name\": \"eth0\"\n",
      "    },\n",
      "    \"user_entry_point\": \"train.py\"\u001b[0m\n",
      "\u001b[34m}\n",
      "\u001b[0m\n",
      "\u001b[34mEnvironment variables:\n",
      "\u001b[0m\n",
      "\u001b[34mSM_HOSTS=[\"algo-1\"]\u001b[0m\n",
      "\u001b[34mSM_NETWORK_INTERFACE_NAME=eth0\u001b[0m\n",
      "\u001b[34mSM_HPS={\"class_weight_0\":7,\"class_weight_1\":3,\"epochs\":100}\u001b[0m\n",
      "\u001b[34mSM_USER_ENTRY_POINT=train.py\u001b[0m\n",
      "\u001b[34mSM_FRAMEWORK_PARAMS={}\u001b[0m\n",
      "\u001b[34mSM_RESOURCE_CONFIG={\"current_host\":\"algo-1\",\"hosts\":[\"algo-1\"],\"network_interface_name\":\"eth0\"}\u001b[0m\n",
      "\u001b[34mSM_INPUT_DATA_CONFIG={\"train\":{\"RecordWrapperType\":\"None\",\"S3DistributionType\":\"FullyReplicated\",\"TrainingInputMode\":\"File\"}}\u001b[0m\n",
      "\u001b[34mSM_OUTPUT_DATA_DIR=/opt/ml/output/data\u001b[0m\n",
      "\u001b[34mSM_CHANNELS=[\"train\"]\u001b[0m\n",
      "\u001b[34mSM_CURRENT_HOST=algo-1\u001b[0m\n",
      "\u001b[34mSM_MODULE_NAME=train\u001b[0m\n",
      "\u001b[34mSM_LOG_LEVEL=20\u001b[0m\n",
      "\u001b[34mSM_FRAMEWORK_MODULE=sagemaker_pytorch_container.training:main\u001b[0m\n",
      "\u001b[34mSM_INPUT_DIR=/opt/ml/input\u001b[0m\n",
      "\u001b[34mSM_INPUT_CONFIG_DIR=/opt/ml/input/config\u001b[0m\n",
      "\u001b[34mSM_OUTPUT_DIR=/opt/ml/output\u001b[0m\n",
      "\u001b[34mSM_NUM_CPUS=4\u001b[0m\n",
      "\u001b[34mSM_NUM_GPUS=1\u001b[0m\n",
      "\u001b[34mSM_MODEL_DIR=/opt/ml/model\u001b[0m\n",
      "\u001b[34mSM_MODULE_DIR=s3://sagemaker-ap-south-1-598085156765/pytorch-training-2020-10-27-02-09-50-132/source/sourcedir.tar.gz\u001b[0m\n",
      "\u001b[34mSM_TRAINING_ENV={\"additional_framework_parameters\":{},\"channel_input_dirs\":{\"train\":\"/opt/ml/input/data/train\"},\"current_host\":\"algo-1\",\"framework_module\":\"sagemaker_pytorch_container.training:main\",\"hosts\":[\"algo-1\"],\"hyperparameters\":{\"class_weight_0\":7,\"class_weight_1\":3,\"epochs\":100},\"input_config_dir\":\"/opt/ml/input/config\",\"input_data_config\":{\"train\":{\"RecordWrapperType\":\"None\",\"S3DistributionType\":\"FullyReplicated\",\"TrainingInputMode\":\"File\"}},\"input_dir\":\"/opt/ml/input\",\"is_master\":true,\"job_name\":\"pytorch-training-2020-10-27-02-09-50-132\",\"log_level\":20,\"master_hostname\":\"algo-1\",\"model_dir\":\"/opt/ml/model\",\"module_dir\":\"s3://sagemaker-ap-south-1-598085156765/pytorch-training-2020-10-27-02-09-50-132/source/sourcedir.tar.gz\",\"module_name\":\"train\",\"network_interface_name\":\"eth0\",\"num_cpus\":4,\"num_gpus\":1,\"output_data_dir\":\"/opt/ml/output/data\",\"output_dir\":\"/opt/ml/output\",\"output_intermediate_dir\":\"/opt/ml/output/intermediate\",\"resource_config\":{\"current_host\":\"algo-1\",\"hosts\":[\"algo-1\"],\"network_interface_name\":\"eth0\"},\"user_entry_point\":\"train.py\"}\u001b[0m\n",
      "\u001b[34mSM_USER_ARGS=[\"--class_weight_0\",\"7\",\"--class_weight_1\",\"3\",\"--epochs\",\"100\"]\u001b[0m\n",
      "\u001b[34mSM_OUTPUT_INTERMEDIATE_DIR=/opt/ml/output/intermediate\u001b[0m\n",
      "\u001b[34mSM_CHANNEL_TRAIN=/opt/ml/input/data/train\u001b[0m\n",
      "\u001b[34mSM_HP_CLASS_WEIGHT_1=3\u001b[0m\n",
      "\u001b[34mSM_HP_CLASS_WEIGHT_0=7\u001b[0m\n",
      "\u001b[34mSM_HP_EPOCHS=100\u001b[0m\n",
      "\u001b[34mPYTHONPATH=/opt/ml/code:/opt/conda/bin:/opt/conda/lib/python36.zip:/opt/conda/lib/python3.6:/opt/conda/lib/python3.6/lib-dynload:/opt/conda/lib/python3.6/site-packages\n",
      "\u001b[0m\n",
      "\u001b[34mInvoking script with the following command:\n",
      "\u001b[0m\n",
      "\u001b[34m/opt/conda/bin/python train.py --class_weight_0 7 --class_weight_1 3 --epochs 100\n",
      "\n",
      "\u001b[0m\n",
      "\u001b[34mUsing device cuda.\u001b[0m\n",
      "\u001b[34mGet train data loader.\u001b[0m\n",
      "\u001b[34mGet validation data loader.\u001b[0m\n",
      "\u001b[34m[2020-10-27 02:15:30.409 algo-1:42 INFO json_config.py:90] Creating hook from json_config at /opt/ml/input/config/debughookconfig.json.\u001b[0m\n",
      "\u001b[34m[2020-10-27 02:15:30.409 algo-1:42 INFO hook.py:183] tensorboard_dir has not been set for the hook. SMDebug will not be exporting tensorboard summaries.\u001b[0m\n",
      "\u001b[34m[2020-10-27 02:15:30.409 algo-1:42 INFO hook.py:228] Saving to /opt/ml/output/tensors\u001b[0m\n",
      "\u001b[34m[2020-10-27 02:15:30.426 algo-1:42 INFO hook.py:364] Monitoring the collections: losses\u001b[0m\n",
      "\u001b[34m[2020-10-27 02:15:30.426 algo-1:42 INFO hook.py:422] Hook is writing from the hook with pid: 42\n",
      "\u001b[0m\n",
      "\u001b[34mEpoch: 1, Train loss: 0.6878902327339604, Train accuracy: 0.6451803104077906\u001b[0m\n",
      "\u001b[34mValidation loss: 0.6601807475090027 Validation accuracy: 0.9912280701754386\u001b[0m\n",
      "\u001b[34mEpoch: 2, Train loss: 0.6813420975733103, Train accuracy: 0.7029760093325218\u001b[0m\n",
      "\u001b[34mValidation loss: 0.6388100981712341 Validation accuracy: 0.9912280701754386\u001b[0m\n",
      "\u001b[34mEpoch: 3, Train loss: 0.6780411451117797, Train accuracy: 0.6962936193954149\u001b[0m\n",
      "\u001b[34mValidation loss: 0.6216539144515991 Validation accuracy: 0.9912280701754386\u001b[0m\n",
      "\u001b[34mEpoch: 4, Train loss: 0.6724564320636246, Train accuracy: 0.6994699736254819\u001b[0m\n",
      "\u001b[34mValidation loss: 0.604830265045166 Validation accuracy: 0.9912280701754386\u001b[0m\n",
      "\u001b[34mEpoch: 5, Train loss: 0.6675267556928238, Train accuracy: 0.7007950395617772\u001b[0m\n",
      "\u001b[34mValidation loss: 0.5866836309432983 Validation accuracy: 0.9912280701754386\u001b[0m\n",
      "\u001b[34mEpoch: 6, Train loss: 0.6640734668797666, Train accuracy: 0.6970797829174274\u001b[0m\n",
      "\u001b[34mValidation loss: 0.5949921607971191 Validation accuracy: 0.9912280701754386\u001b[0m\n",
      "\u001b[34mEpoch: 7, Train loss: 0.6523329484387763, Train accuracy: 0.7143627003448975\u001b[0m\n",
      "\u001b[34mValidation loss: 0.5604280233383179 Validation accuracy: 0.9912280701754386\u001b[0m\n",
      "\u001b[34mEpoch: 8, Train loss: 0.6577100465132756, Train accuracy: 0.6962682592818016\u001b[0m\n",
      "\u001b[34mValidation loss: 0.5666211843490601 Validation accuracy: 0.9912280701754386\u001b[0m\n",
      "\u001b[34mEpoch: 9, Train loss: 0.6536332754968847, Train accuracy: 0.7021581456684926\u001b[0m\n",
      "\u001b[34mValidation loss: 0.5280360579490662 Validation accuracy: 0.9912280701754386\u001b[0m\n",
      "\u001b[34mEpoch: 10, Train loss: 0.6501124115110194, Train accuracy: 0.6917351389734226\u001b[0m\n",
      "\u001b[34mValidation loss: 0.5251384377479553 Validation accuracy: 0.9912280701754386\u001b[0m\n",
      "\u001b[34mEpoch: 11, Train loss: 0.6471248643953096, Train accuracy: 0.6921662609048488\u001b[0m\n",
      "\u001b[34mValidation loss: 0.5129088759422302 Validation accuracy: 0.9912280701754386\u001b[0m\n",
      "\u001b[34mEpoch: 12, Train loss: 0.6327194856397761, Train accuracy: 0.7090941367417326\u001b[0m\n",
      "\u001b[34mValidation loss: 0.5162156820297241 Validation accuracy: 0.9912280701754386\u001b[0m\n",
      "\u001b[34mEpoch: 13, Train loss: 0.6424069640771398, Train accuracy: 0.6860734936092513\u001b[0m\n",
      "\u001b[34mValidation loss: 0.49335339665412903 Validation accuracy: 0.9912280701754386\u001b[0m\n",
      "\u001b[34mEpoch: 14, Train loss: 0.6327851658347268, Train accuracy: 0.7029443091905052\u001b[0m\n",
      "\u001b[34mValidation loss: 0.4861515760421753 Validation accuracy: 0.9912280701754386\u001b[0m\n",
      "\u001b[34mEpoch: 15, Train loss: 0.6372628107010944, Train accuracy: 0.6901564719009942\u001b[0m\n",
      "\u001b[34mValidation loss: 0.48708513379096985 Validation accuracy: 0.9912280701754386\u001b[0m\n",
      "\u001b[34mEpoch: 16, Train loss: 0.6190122446549013, Train accuracy: 0.7116238080746601\u001b[0m\n",
      "\u001b[34mValidation loss: 0.4846436679363251 Validation accuracy: 0.9912280701754386\u001b[0m\n",
      "\u001b[34mEpoch: 17, Train loss: 0.6290005664780455, Train accuracy: 0.6941126496246703\u001b[0m\n",
      "\u001b[34mValidation loss: 0.48283639550209045 Validation accuracy: 0.9912280701754386\u001b[0m\n",
      "\u001b[34mEpoch: 18, Train loss: 0.624931942179518, Train accuracy: 0.6980751673767499\u001b[0m\n",
      "\u001b[34mValidation loss: 0.4808672070503235 Validation accuracy: 0.9912280701754386\u001b[0m\n",
      "\u001b[34mEpoch: 19, Train loss: 0.6147750507360734, Train accuracy: 0.7080860722256035\u001b[0m\n",
      "\u001b[34mValidation loss: 0.47879841923713684 Validation accuracy: 0.9912280701754386\u001b[0m\n",
      "\u001b[34mEpoch: 20, Train loss: 0.6199245732160484, Train accuracy: 0.6992290525461554\u001b[0m\n",
      "\u001b[34mValidation loss: 0.4624849557876587 Validation accuracy: 0.9912280701754386\u001b[0m\n",
      "\u001b[34mEpoch: 21, Train loss: 0.6229080666536055, Train accuracy: 0.6933201460742544\u001b[0m\n",
      "\u001b[34mValidation loss: 0.45302972197532654 Validation accuracy: 0.9912280701754386\u001b[0m\n",
      "\u001b[34mEpoch: 22, Train loss: 0.6116524001337448, Train accuracy: 0.7078831913166971\u001b[0m\n",
      "\u001b[34mValidation loss: 0.4677964746952057 Validation accuracy: 0.9912280701754386\u001b[0m\n",
      "\u001b[34mEpoch: 23, Train loss: 0.614435575855603, Train accuracy: 0.6997933150740515\u001b[0m\n",
      "\u001b[34mValidation loss: 0.4611797332763672 Validation accuracy: 0.9912280701754386\u001b[0m\n",
      "\u001b[34mEpoch: 24, Train loss: 0.6116145161337823, Train accuracy: 0.7029696693041184\u001b[0m\n",
      "\u001b[34mValidation loss: 0.46457862854003906 Validation accuracy: 0.9912280701754386\u001b[0m\n",
      "\u001b[34mEpoch: 25, Train loss: 0.6154491524651365, Train accuracy: 0.6931489653073646\u001b[0m\n",
      "\u001b[34mValidation loss: 0.45251065492630005 Validation accuracy: 0.9912280701754386\u001b[0m\n",
      "\u001b[34mEpoch: 26, Train loss: 0.6067277541700399, Train accuracy: 0.7064883850679651\u001b[0m\n",
      "\u001b[34mValidation loss: 0.449127733707428 Validation accuracy: 0.9912280701754386\u001b[0m\n",
      "\u001b[34mEpoch: 27, Train loss: 0.6127385605806075, Train accuracy: 0.6974411645364171\u001b[0m\n",
      "\u001b[34mValidation loss: 0.4707258343696594 Validation accuracy: 0.9912280701754386\u001b[0m\n",
      "\u001b[34mEpoch: 28, Train loss: 0.6100747066098939, Train accuracy: 0.7043137553256239\u001b[0m\n",
      "\u001b[34mValidation loss: 0.44377338886260986 Validation accuracy: 0.9912280701754386\u001b[0m\n",
      "\u001b[34mEpoch: 29, Train loss: 0.6160357315210426, Train accuracy: 0.6909806755934266\u001b[0m\n",
      "\u001b[34mValidation loss: 0.46313053369522095 Validation accuracy: 0.9912280701754386\u001b[0m\n",
      "\u001b[34mEpoch: 30, Train loss: 0.6123213942320842, Train accuracy: 0.6947212923513897\u001b[0m\n",
      "\u001b[34mValidation loss: 0.4526844918727875 Validation accuracy: 0.9912280701754386\u001b[0m\n",
      "\u001b[34mEpoch: 31, Train loss: 0.60094098306302, Train accuracy: 0.709043416514506\u001b[0m\n",
      "\u001b[34mValidation loss: 0.4705398976802826 Validation accuracy: 0.9912280701754386\u001b[0m\n",
      "\u001b[34mEpoch: 32, Train loss: 0.6154206153356804, Train accuracy: 0.693313806045851\u001b[0m\n",
      "\u001b[34mValidation loss: 0.43943020701408386 Validation accuracy: 0.9912280701754386\u001b[0m\n",
      "\u001b[34mEpoch: 33, Train loss: 0.6127248063402356, Train accuracy: 0.6962745993102049\u001b[0m\n",
      "\u001b[34mValidation loss: 0.4526155889034271 Validation accuracy: 0.9912280701754386\u001b[0m\n",
      "\u001b[34mEpoch: 34, Train loss: 0.6011638847537011, Train accuracy: 0.7151869040373301\u001b[0m\n",
      "\u001b[34mValidation loss: 0.4452042579650879 Validation accuracy: 0.9912280701754386\u001b[0m\n",
      "\u001b[34mEpoch: 35, Train loss: 0.6115083542634856, Train accuracy: 0.6961160986001218\u001b[0m\n",
      "\u001b[34mValidation loss: 0.4451441764831543 Validation accuracy: 0.9912280701754386\u001b[0m\n",
      "\u001b[34mEpoch: 36, Train loss: 0.6092545794990828, Train accuracy: 0.7008077196185839\u001b[0m\n",
      "\u001b[34mValidation loss: 0.439219206571579 Validation accuracy: 0.9912280701754386\u001b[0m\n",
      "\u001b[34mEpoch: 37, Train loss: 0.6090642654295987, Train accuracy: 0.6992290525461554\u001b[0m\n",
      "\u001b[34mValidation loss: 0.4495088756084442 Validation accuracy: 0.9912280701754386\u001b[0m\n",
      "\u001b[34mEpoch: 38, Train loss: 0.6117476789081622, Train accuracy: 0.6966613410428079\u001b[0m\n",
      "\u001b[34mValidation loss: 0.44710078835487366 Validation accuracy: 0.9912280701754386\u001b[0m\n",
      "\u001b[34mEpoch: 39, Train loss: 0.6029460366417028, Train accuracy: 0.7070970277946845\u001b[0m\n",
      "\u001b[34mValidation loss: 0.43839529156684875 Validation accuracy: 0.9912280701754386\u001b[0m\n",
      "\u001b[34mEpoch: 40, Train loss: 0.5975540194121547, Train accuracy: 0.7112370663420573\u001b[0m\n",
      "\u001b[34mValidation loss: 0.4259459376335144 Validation accuracy: 0.9912280701754386\u001b[0m\n",
      "\u001b[34mEpoch: 41, Train loss: 0.6115360700484341, Train accuracy: 0.6970671028606208\u001b[0m\n",
      "\u001b[34mValidation loss: 0.4356023371219635 Validation accuracy: 0.9912280701754386\u001b[0m\n",
      "\u001b[34mEpoch: 42, Train loss: 0.6060945819009025, Train accuracy: 0.7004273179143843\u001b[0m\n",
      "\u001b[34mValidation loss: 0.4388599097728729 Validation accuracy: 0.9912280701754386\u001b[0m\n",
      "\u001b[34mEpoch: 43, Train loss: 0.6093615859559497, Train accuracy: 0.7008013795901805\u001b[0m\n",
      "\u001b[34mValidation loss: 0.43107038736343384 Validation accuracy: 0.9912280701754386\u001b[0m\n",
      "\u001b[34mEpoch: 44, Train loss: 0.6103497917922038, Train accuracy: 0.6988423108135524\u001b[0m\n",
      "\u001b[34mValidation loss: 0.4410665035247803 Validation accuracy: 0.9912280701754386\u001b[0m\n",
      "\u001b[34mEpoch: 45, Train loss: 0.6053360417578955, Train accuracy: 0.7041298945019273\u001b[0m\n",
      "\u001b[34mValidation loss: 0.42941176891326904 Validation accuracy: 0.9912280701754386\u001b[0m\n",
      "\u001b[34mEpoch: 46, Train loss: 0.6067966636996599, Train accuracy: 0.7005984986812741\u001b[0m\n",
      "\u001b[34mValidation loss: 0.44091033935546875 Validation accuracy: 0.9912280701754386\u001b[0m\n",
      "\u001b[34mEpoch: 47, Train loss: 0.6046349325644895, Train accuracy: 0.7049223980523432\u001b[0m\n",
      "\u001b[34mValidation loss: 0.4290255010128021 Validation accuracy: 0.9912280701754386\u001b[0m\n",
      "\u001b[34mEpoch: 48, Train loss: 0.6109624207019806, Train accuracy: 0.6949178332318928\u001b[0m\n",
      "\u001b[34mValidation loss: 0.4356473386287689 Validation accuracy: 0.9912280701754386\u001b[0m\n",
      "\u001b[34mEpoch: 49, Train loss: 0.6114943096847654, Train accuracy: 0.6953172550213025\u001b[0m\n",
      "\u001b[34mValidation loss: 0.4293094277381897 Validation accuracy: 0.9912280701754386\u001b[0m\n",
      "\u001b[34mEpoch: 50, Train loss: 0.6170437272239782, Train accuracy: 0.6907777946845202\u001b[0m\n",
      "\u001b[34mValidation loss: 0.43834373354911804 Validation accuracy: 0.9912280701754386\u001b[0m\n",
      "\u001b[34mEpoch: 51, Train loss: 0.6120113100645677, Train accuracy: 0.6966930411848246\u001b[0m\n",
      "\u001b[34mValidation loss: 0.4374040365219116 Validation accuracy: 0.9912280701754386\u001b[0m\n",
      "\u001b[34mEpoch: 52, Train loss: 0.6039322157325985, Train accuracy: 0.7043581355244471\u001b[0m\n",
      "\u001b[34mValidation loss: 0.4322305917739868 Validation accuracy: 0.9912280701754386\u001b[0m\n",
      "\u001b[34mEpoch: 53, Train loss: 0.6115788954233973, Train accuracy: 0.6939414688577805\u001b[0m\n",
      "\u001b[34mValidation loss: 0.43806734681129456 Validation accuracy: 0.9912280701754386\u001b[0m\n",
      "\u001b[34mEpoch: 54, Train loss: 0.6055478209969383, Train accuracy: 0.7027921485088253\u001b[0m\n",
      "\u001b[34mValidation loss: 0.4350324273109436 Validation accuracy: 0.9912280701754386\u001b[0m\n",
      "\u001b[34mEpoch: 55, Train loss: 0.6063673115751278, Train accuracy: 0.70142904240211\u001b[0m\n",
      "\u001b[34mValidation loss: 0.4265630543231964 Validation accuracy: 0.9912280701754386\u001b[0m\n",
      "\u001b[34mEpoch: 56, Train loss: 0.6039417571616623, Train accuracy: 0.7055247007506593\u001b[0m\n",
      "\u001b[34mValidation loss: 0.43040838837623596 Validation accuracy: 0.9912280701754386\u001b[0m\n",
      "\u001b[34mEpoch: 57, Train loss: 0.6183226155410023, Train accuracy: 0.6891927875836884\u001b[0m\n",
      "\u001b[34mValidation loss: 0.4441572427749634 Validation accuracy: 0.9912280701754386\u001b[0m\n",
      "\u001b[34mEpoch: 58, Train loss: 0.6145237854816629, Train accuracy: 0.6935166869547575\u001b[0m\n",
      "\u001b[34mValidation loss: 0.44457703828811646 Validation accuracy: 0.9912280701754386\u001b[0m\n",
      "\u001b[34mEpoch: 59, Train loss: 0.6150253475087244, Train accuracy: 0.6927432034895517\u001b[0m\n",
      "\u001b[34mValidation loss: 0.42818522453308105 Validation accuracy: 0.9912280701754386\u001b[0m\n",
      "\u001b[34mEpoch: 60, Train loss: 0.6154690390487887, Train accuracy: 0.6934976668695476\u001b[0m\n",
      "\u001b[34mValidation loss: 0.44735926389694214 Validation accuracy: 0.9912280701754386\u001b[0m\n",
      "\u001b[34mEpoch: 61, Train loss: 0.6053120355186222, Train accuracy: 0.7019869649016027\u001b[0m\n",
      "\u001b[34mValidation loss: 0.4343191087245941 Validation accuracy: 0.9912280701754386\u001b[0m\n",
      "\u001b[34mEpoch: 62, Train loss: 0.5981242392423018, Train accuracy: 0.7147367620206938\u001b[0m\n",
      "\u001b[34mValidation loss: 0.4272410571575165 Validation accuracy: 0.9912280701754386\u001b[0m\n",
      "\u001b[34mEpoch: 63, Train loss: 0.6164652596479692, Train accuracy: 0.6890025867315885\u001b[0m\n",
      "\u001b[34mValidation loss: 0.4277799725532532 Validation accuracy: 0.9912280701754386\u001b[0m\n",
      "\u001b[34mEpoch: 64, Train loss: 0.6203128929782964, Train accuracy: 0.6852809900588355\u001b[0m\n",
      "\u001b[34mValidation loss: 0.43589168787002563 Validation accuracy: 0.9912280701754386\u001b[0m\n",
      "\u001b[34mEpoch: 65, Train loss: 0.5945347665615801, Train accuracy: 0.7151742239805234\u001b[0m\n",
      "\u001b[34mValidation loss: 0.4353695213794708 Validation accuracy: 0.9912280701754386\u001b[0m\n",
      "\u001b[34mEpoch: 66, Train loss: 0.6145594845402915, Train accuracy: 0.6943091905051735\u001b[0m\n",
      "\u001b[34mValidation loss: 0.43933960795402527 Validation accuracy: 0.9912280701754386\u001b[0m\n",
      "\u001b[34mEpoch: 67, Train loss: 0.6150422572339855, Train accuracy: 0.6937132278352607\u001b[0m\n",
      "\u001b[34mValidation loss: 0.4319690465927124 Validation accuracy: 0.9912280701754386\u001b[0m\n",
      "\u001b[34mEpoch: 68, Train loss: 0.609569769797835, Train accuracy: 0.7005858186244674\u001b[0m\n",
      "\u001b[34mValidation loss: 0.4452436864376068 Validation accuracy: 0.9912280701754386\u001b[0m\n",
      "\u001b[34mEpoch: 69, Train loss: 0.613247757437844, Train accuracy: 0.6945247514708865\u001b[0m\n",
      "\u001b[34mValidation loss: 0.4482448101043701 Validation accuracy: 0.9912280701754386\u001b[0m\n",
      "\u001b[34mEpoch: 70, Train loss: 0.6130995407419385, Train accuracy: 0.695520135930209\u001b[0m\n",
      "\u001b[34mValidation loss: 0.4334981441497803 Validation accuracy: 0.9912280701754386\u001b[0m\n",
      "\u001b[34mEpoch: 71, Train loss: 0.6045380360300436, Train accuracy: 0.7069068269425847\u001b[0m\n",
      "\u001b[34mValidation loss: 0.4253394603729248 Validation accuracy: 0.9912280701754386\u001b[0m\n",
      "\u001b[34mEpoch: 72, Train loss: 0.613892710996124, Train accuracy: 0.6939351288293771\u001b[0m\n",
      "\u001b[34mValidation loss: 0.4339474141597748 Validation accuracy: 0.9912280701754386\u001b[0m\n",
      "\u001b[34mEpoch: 73, Train loss: 0.6167071396074955, Train accuracy: 0.6921726009332522\u001b[0m\n",
      "\u001b[34mValidation loss: 0.43379315733909607 Validation accuracy: 0.9912280701754386\u001b[0m\n",
      "\u001b[34mEpoch: 74, Train loss: 0.6067166564599523, Train accuracy: 0.7012261614932035\u001b[0m\n",
      "\u001b[34mValidation loss: 0.44322553277015686 Validation accuracy: 0.9912280701754386\u001b[0m\n",
      "\u001b[34mEpoch: 75, Train loss: 0.6139784901397033, Train accuracy: 0.6939414688577805\u001b[0m\n",
      "\u001b[34mValidation loss: 0.4378546476364136 Validation accuracy: 0.9912280701754386\u001b[0m\n",
      "\u001b[34mEpoch: 76, Train loss: 0.6113597475132853, Train accuracy: 0.6984619091093528\u001b[0m\n",
      "\u001b[34mValidation loss: 0.43566635251045227 Validation accuracy: 0.9912280701754386\u001b[0m\n",
      "\u001b[34mEpoch: 77, Train loss: 0.6064320896406593, Train accuracy: 0.7045610164333537\u001b[0m\n",
      "\u001b[34mValidation loss: 0.432878315448761 Validation accuracy: 0.9912280701754386\u001b[0m\n",
      "\u001b[34mEpoch: 78, Train loss: 0.6030076496631095, Train accuracy: 0.7073062487319943\u001b[0m\n",
      "\u001b[34mValidation loss: 0.4241776764392853 Validation accuracy: 0.9912280701754386\u001b[0m\n",
      "\u001b[34mEpoch: 79, Train loss: 0.607966402604145, Train accuracy: 0.70137198214648\u001b[0m\n",
      "\u001b[34mValidation loss: 0.43295159935951233 Validation accuracy: 0.9912280701754386\u001b[0m\n",
      "\u001b[34mEpoch: 80, Train loss: 0.6031112176067425, Train accuracy: 0.7084728139582065\u001b[0m\n",
      "\u001b[34mValidation loss: 0.43271008133888245 Validation accuracy: 0.9912280701754386\u001b[0m\n",
      "\u001b[34mEpoch: 81, Train loss: 0.6111877390048789, Train accuracy: 0.69786594643944\u001b[0m\n",
      "\u001b[34mValidation loss: 0.43267127871513367 Validation accuracy: 0.9912280701754386\u001b[0m\n",
      "\u001b[34mEpoch: 82, Train loss: 0.6090867843642924, Train accuracy: 0.7006492189085007\u001b[0m\n",
      "\u001b[34mValidation loss: 0.4298703074455261 Validation accuracy: 0.9912280701754386\u001b[0m\n",
      "\u001b[34mEpoch: 83, Train loss: 0.6108995914084356, Train accuracy: 0.6970734428890241\u001b[0m\n",
      "\u001b[34mValidation loss: 0.42517921328544617 Validation accuracy: 0.9912280701754386\u001b[0m\n",
      "\u001b[34mEpoch: 84, Train loss: 0.6038212226996632, Train accuracy: 0.7073125887603977\u001b[0m\n",
      "\u001b[34mValidation loss: 0.429311066865921 Validation accuracy: 0.9912280701754386\u001b[0m\n",
      "\u001b[34mEpoch: 85, Train loss: 0.6062135608316218, Train accuracy: 0.7035402718604179\u001b[0m\n",
      "\u001b[34mValidation loss: 0.4257245659828186 Validation accuracy: 0.9912280701754386\u001b[0m\n",
      "\u001b[34mEpoch: 86, Train loss: 0.6101418604265969, Train accuracy: 0.699628474335565\u001b[0m\n",
      "\u001b[34mValidation loss: 0.4237842857837677 Validation accuracy: 0.9912280701754386\u001b[0m\n",
      "\u001b[34mEpoch: 87, Train loss: 0.6061899577671627, Train accuracy: 0.7029950294177318\u001b[0m\n",
      "\u001b[34mValidation loss: 0.4343965947628021 Validation accuracy: 0.9912280701754386\u001b[0m\n",
      "\u001b[34mEpoch: 88, Train loss: 0.6092974566063791, Train accuracy: 0.6986521099614525\u001b[0m\n",
      "\u001b[34mValidation loss: 0.43990156054496765 Validation accuracy: 0.9912280701754386\u001b[0m\n",
      "\u001b[34mEpoch: 89, Train loss: 0.6130185213478856, Train accuracy: 0.6942965104483668\u001b[0m\n",
      "\u001b[34mValidation loss: 0.4355936050415039 Validation accuracy: 0.9912280701754386\u001b[0m\n",
      "\u001b[34mEpoch: 90, Train loss: 0.6034022097317677, Train accuracy: 0.7057275816595658\u001b[0m\n",
      "\u001b[34mValidation loss: 0.4310525953769684 Validation accuracy: 0.9912280701754386\u001b[0m\n",
      "\u001b[34mEpoch: 91, Train loss: 0.6136434201924306, Train accuracy: 0.6949241732602962\u001b[0m\n",
      "\u001b[34mValidation loss: 0.42791005969047546 Validation accuracy: 0.9912280701754386\u001b[0m\n",
      "\u001b[34mEpoch: 92, Train loss: 0.6051682196323227, Train accuracy: 0.7021771657537026\u001b[0m\n",
      "\u001b[34mValidation loss: 0.4286428987979889 Validation accuracy: 0.9912280701754386\u001b[0m\n",
      "\u001b[34mEpoch: 93, Train loss: 0.6096406526535562, Train accuracy: 0.6982400081152363\u001b[0m\n",
      "\u001b[34mValidation loss: 0.4368106424808502 Validation accuracy: 0.9912280701754386\u001b[0m\n",
      "\u001b[34mEpoch: 94, Train loss: 0.6119666118291939, Train accuracy: 0.6965091803611281\u001b[0m\n",
      "\u001b[34mValidation loss: 0.427633136510849 Validation accuracy: 0.9912280701754386\u001b[0m\n",
      "\u001b[34mEpoch: 95, Train loss: 0.6197770997038428, Train accuracy: 0.6854775309393386\u001b[0m\n",
      "\u001b[34mValidation loss: 0.4385272264480591 Validation accuracy: 0.9912280701754386\u001b[0m\n",
      "\u001b[34mEpoch: 96, Train loss: 0.6124503348233565, Train accuracy: 0.6964774802191114\u001b[0m\n",
      "\u001b[34mValidation loss: 0.4364713132381439 Validation accuracy: 0.9912280701754386\u001b[0m\n",
      "\u001b[34mEpoch: 97, Train loss: 0.6073382969172496, Train accuracy: 0.7021708257252992\u001b[0m\n",
      "\u001b[34mValidation loss: 0.44074541330337524 Validation accuracy: 0.9912280701754386\u001b[0m\n",
      "\u001b[34mEpoch: 98, Train loss: 0.603881263320551, Train accuracy: 0.7059177825116656\u001b[0m\n",
      "\u001b[34mValidation loss: 0.44138413667678833 Validation accuracy: 0.9912280701754386\u001b[0m\n",
      "\n",
      "2020-10-27 02:26:27 Uploading - Uploading generated training model\u001b[34mEpoch: 99, Train loss: 0.5994995448199458, Train accuracy: 0.7116174680462568\u001b[0m\n",
      "\u001b[34mValidation loss: 0.437872976064682 Validation accuracy: 0.9912280701754386\u001b[0m\n",
      "\u001b[34mEpoch: 100, Train loss: 0.6017482183264486, Train accuracy: 0.7078324710894704\u001b[0m\n",
      "\u001b[34mValidation loss: 0.4327290952205658 Validation accuracy: 0.9912280701754386\u001b[0m\n",
      "\u001b[34m[2020-10-27 02:26:26.005 algo-1:42 INFO utils.py:25] The end of training job file will not be written for jobs running under SageMaker.\u001b[0m\n",
      "\u001b[34m2020-10-27 02:26:26,539 sagemaker-containers INFO     Reporting training SUCCESS\u001b[0m\n",
      "\n",
      "2020-10-27 02:27:15 Completed - Training job completed\n",
      "Training seconds: 909\n",
      "Billable seconds: 909\n",
      "CPU times: user 2.44 s, sys: 84.3 ms, total: 2.52 s\n",
      "Wall time: 17min 51s\n"
     ]
    }
   ],
   "source": [
    "%%time\n",
    "\n",
    "estimator.fit({'train': input_data})"
   ]
  },
  {
   "cell_type": "markdown",
   "metadata": {},
   "source": [
    "#### Learning and Accuracy Curves"
   ]
  },
  {
   "cell_type": "code",
   "execution_count": 265,
   "metadata": {},
   "outputs": [
    {
     "data": {
      "text/plain": [
       "'pytorch-training-2020-10-27-02-09-50-132'"
      ]
     },
     "execution_count": 265,
     "metadata": {},
     "output_type": "execute_result"
    }
   ],
   "source": [
    "estimator.latest_training_job.name"
   ]
  },
  {
   "cell_type": "code",
   "execution_count": 266,
   "metadata": {},
   "outputs": [],
   "source": [
    "filename='output.tar.gz'\n",
    "s3 = boto3.client('s3')\n",
    "s3.download_file(bucket,os.path.join(prefix,estimator.latest_training_job.name,'output',filename),filename)"
   ]
  },
  {
   "cell_type": "code",
   "execution_count": 268,
   "metadata": {},
   "outputs": [],
   "source": [
    "filename = 'output.tar.gz'\n",
    "with tarfile.open(filename) as tf:\n",
    "    tf.extractall('train_data')"
   ]
  },
  {
   "cell_type": "code",
   "execution_count": 282,
   "metadata": {},
   "outputs": [],
   "source": [
    "train_loss=[]\n",
    "train_accuracy=[]\n",
    "validation_loss=[]\n",
    "validation_accuracy=[] \n",
    "\n",
    "with open('train_data/train_loss.txt') as losses:\n",
    "    for i in range(0,epochs):\n",
    "        train_loss.append(float(losses.readline()))\n",
    "        \n",
    "with open('train_data/val_loss.txt') as losses:\n",
    "    for i in range(0,epochs):\n",
    "        validation_loss.append(float(losses.readline()[7:13]))\n",
    "        \n",
    "with open('train_data/train_acc.txt') as accuracies:\n",
    "    for i in range(0,epochs):\n",
    "        train_accuracy.append(float(accuracies.readline()))\n",
    "        \n",
    "with open('train_data/val_acc.txt') as accuracies:\n",
    "    for i in range(0,epochs):\n",
    "        validation_accuracy.append(float(accuracies.readline()))\n",
    "        \n"
   ]
  },
  {
   "cell_type": "code",
   "execution_count": 283,
   "metadata": {},
   "outputs": [
    {
     "data": {
      "image/png": "[encoded data removed]",
      "text/plain": [
       "<Figure size 432x288 with 1 Axes>"
      ]
     },
     "metadata": {
      "needs_background": "light"
     },
     "output_type": "display_data"
    }
   ],
   "source": [
    "plt.title(\"Learning Curve\")\n",
    "plt.plot(range(0,epochs),train_loss)\n",
    "plt.xlabel(\"Epochs\")\n",
    "plt.ylabel(\"Training Loss\")\n",
    "plt.show()"
   ]
  },
  {
   "cell_type": "code",
   "execution_count": 286,
   "metadata": {},
   "outputs": [
    {
     "data": {
      "image/png": "[encoded data removed]",
      "text/plain": [
       "<Figure size 432x288 with 1 Axes>"
      ]
     },
     "metadata": {
      "needs_background": "light"
     },
     "output_type": "display_data"
    }
   ],
   "source": [
    "plt.title(\"Accuracy Curve\")\n",
    "plt.plot(range(0,epochs),train_accuracy)\n",
    "plt.xlabel(\"Epochs\")\n",
    "plt.ylabel(\"Training Accuracy\")\n",
    "plt.show()"
   ]
  },
  {
   "cell_type": "markdown",
   "metadata": {},
   "source": [
    "#### Deploying the model"
   ]
  },
  {
   "cell_type": "code",
   "execution_count": 272,
   "metadata": {},
   "outputs": [
    {
     "name": "stderr",
     "output_type": "stream",
     "text": [
      "Parameter image will be renamed to image_uri in SageMaker Python SDK v2.\n",
      "'create_image_uri' will be deprecated in favor of 'ImageURIProvider' class in SageMaker Python SDK v2.\n"
     ]
    },
    {
     "name": "stdout",
     "output_type": "stream",
     "text": [
      "---------------!"
     ]
    }
   ],
   "source": [
    "from sagemaker.pytorch import PyTorchModel\n",
    "model = PyTorchModel(entry_point=\"predict.py\", \n",
    "                     source_dir=\"source_pytorch\", \n",
    "                     framework_version='1.5.0',\n",
    "                     model_data=estimator.model_data,\n",
    "                     role=role\n",
    "                    )\n",
    "\n",
    "# deploy your model to create a predictor\n",
    "predictor = model.deploy(initial_instance_count=1,instance_type='ml.t2.medium')"
   ]
  },
  {
   "cell_type": "markdown",
   "metadata": {},
   "source": [
    "#### Prediction and Evaluation"
   ]
  },
  {
   "cell_type": "code",
   "execution_count": 275,
   "metadata": {},
   "outputs": [],
   "source": [
    "#taking first 500 test samples separately due to the limitations in the \n",
    "#amount of data that can be predicted by the predictor in each inference\n",
    "\n",
    "test_data = pd.read_csv(os.path.join(data_dir, \"test.csv\"), header=None, names=None)\n",
    "test_y = test_data.iloc[:,-1]\n",
    "test_x = test_data.iloc[:,:-1]\n",
    "\n",
    "# generate predicted class labels\n",
    "test_y_preds = predictor.predict(torch.from_numpy(np.array(test_x[:500])).unsqueeze(1).float())\n",
    "test_y_preds = np.concatenate([test_y_preds, predictor.predict(torch.from_numpy(np.array(test_x[500:])).unsqueeze(1).float())])\n",
    "\n",
    "assert len(test_y_preds)==len(test_y), 'Unexpected number of predictions.'"
   ]
  },
  {
   "cell_type": "code",
   "execution_count": 280,
   "metadata": {},
   "outputs": [
    {
     "name": "stdout",
     "output_type": "stream",
     "text": [
      "Accuracy: 0.9912280701754386\n"
     ]
    }
   ],
   "source": [
    "accuracy = accuracy_score(test_y,test_y_preds)\n",
    "\n",
    "print(\"Accuracy: {}\".format(accuracy))"
   ]
  }
 ],
 "metadata": {
  "kernelspec": {
   "display_name": "Python 3",
   "language": "python",
   "name": "python3"
  },
  "language_info": {
   "codemirror_mode": {
    "name": "ipython",
    "version": 3
   },
   "file_extension": ".py",
   "mimetype": "text/x-python",
   "name": "python",
   "nbconvert_exporter": "python",
   "pygments_lexer": "ipython3",
   "version": "3.7.4"
  }
 },
 "nbformat": 4,
 "nbformat_minor": 4
}
